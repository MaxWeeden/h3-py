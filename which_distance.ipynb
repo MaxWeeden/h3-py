{
 "cells": [
  {
   "cell_type": "code",
   "execution_count": null,
   "metadata": {},
   "outputs": [],
   "source": [
    "import math\n",
    "\n",
    "def to_rad(lat, lng):\n",
    "    \n",
    "    return lat*math.pi/180, lng*math.pi/180\n",
    "\n",
    "def haversine_old(a, b):\n",
    "    a_lat, a_lng = a\n",
    "    b_lat, b_lng = b\n",
    "    \n",
    "    a_lng -= b_lng\n",
    "\n",
    "    x = math.cos(a_lng) * math.cos(a_lat) - math.cos(b_lat)\n",
    "    y = math.sin(a_lng) * math.cos(a_lat)\n",
    "    z = math.sin(a_lat) - math.sin(b_lat)\n",
    "\n",
    "    return 2*math.asin( 0.5*math.sqrt(x*x + y*y + z*z) )\n",
    "\n",
    "\n",
    "def haversine_web(a, b):\n",
    "    a_lat, a_lng = a\n",
    "    b_lat, b_lng = b\n",
    "    \n",
    "    d_lat = b_lat - a_lat\n",
    "    d_lng = b_lng - a_lng\n",
    "    \n",
    "    a = ( math.sin(d_lat/2)**2\n",
    "        + math.sin(d_lng/2)**2\n",
    "          * math.cos(a_lat) * math.cos(b_lat) \n",
    "    )\n",
    "    \n",
    "    c = 2 * math.atan2(math.sqrt(a), math.sqrt(1-a))\n",
    "\n",
    "    return c"
   ]
  },
  {
   "cell_type": "code",
   "execution_count": 2,
   "metadata": {},
   "outputs": [],
   "source": [
    "import h3"
   ]
  },
  {
   "cell_type": "code",
   "execution_count": 3,
   "metadata": {},
   "outputs": [],
   "source": [
    "lat, lng = 0, 0 \n",
    "\n",
    "a = h3.geo_to_h3(lat, lng, 15)\n",
    "b = h3.hex_ring(a).pop()\n",
    "a = h3.h3_to_geo(a)\n",
    "b = h3.h3_to_geo(b)\n",
    "\n",
    "a = to_rad(*a)\n",
    "b = to_rad(*b)"
   ]
  },
  {
   "cell_type": "code",
   "execution_count": 7,
   "metadata": {},
   "outputs": [
    {
     "data": {
      "text/plain": [
       "-2.0412506470857482e-16"
      ]
     },
     "execution_count": 7,
     "metadata": {},
     "output_type": "execute_result"
    }
   ],
   "source": [
    "(haversine_old(a,b) - haversine_web(a, b))/haversine_web(a, b)"
   ]
  },
  {
   "cell_type": "code",
   "execution_count": null,
   "metadata": {},
   "outputs": [],
   "source": []
  }
 ],
 "metadata": {
  "kernelspec": {
   "display_name": "Python 3",
   "language": "python",
   "name": "python3"
  },
  "language_info": {
   "codemirror_mode": {
    "name": "ipython",
    "version": 3
   },
   "file_extension": ".py",
   "mimetype": "text/x-python",
   "name": "python",
   "nbconvert_exporter": "python",
   "pygments_lexer": "ipython3",
   "version": "3.7.3"
  }
 },
 "nbformat": 4,
 "nbformat_minor": 4
}
