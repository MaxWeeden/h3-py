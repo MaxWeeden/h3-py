{
 "cells": [
  {
   "cell_type": "code",
   "execution_count": 1,
   "metadata": {},
   "outputs": [],
   "source": [
    "from h3._cy.unstable_area import cell_area\n",
    "import h3.api.basic_int as h3\n",
    "\n",
    "def num_hexagons(res):\n",
    "    return h3.num_hexagons(res) - 12\n",
    "\n",
    "def earth_area():\n",
    "    return sum(map(cell_area, h3.get_res0_indexes()))\n",
    "\n",
    "def pentagon_area_total(res):\n",
    "    return sum(map(cell_area, h3.get_pentagon_indexes(res)))\n",
    "\n",
    "def pentagon_area_avg(res):\n",
    "    return pentagon_area_total(res)/12\n",
    "\n",
    "def hexagon_area_avg(res):\n",
    "    A = earth_area() - pentagon_area_total(res)\n",
    "    \n",
    "    A = A/num_hexagons(res)\n",
    "    \n",
    "    return A"
   ]
  },
  {
   "cell_type": "code",
   "execution_count": 2,
   "metadata": {},
   "outputs": [
    {
     "name": "stdout",
     "output_type": "stream",
     "text": [
      " 0  4,357,449.416078384  2,562,182.162955495\n",
      " 1    609,788.441794133    328,434.586246469\n",
      " 2     86,801.780398997     44,930.898497879\n",
      " 3     12,393.434655088      6,315.472267516\n",
      " 4      1,770.347654491        896.582383141\n",
      " 5        252.903858182        127.785583023\n",
      " 6         36.129062164         18.238749548\n",
      " 7          5.161293360          2.604669397\n",
      " 8          0.737327598          0.372048038\n",
      " 9          0.105332513          0.053147195\n",
      "10          0.015047502          0.007592318\n",
      "11          0.002149643          0.001084609\n",
      "12          0.000307092          0.000154944\n",
      "13          0.000043870          0.000022135\n",
      "14          0.000006267          0.000003162\n",
      "15          0.000000895          0.000000452\n"
     ]
    }
   ],
   "source": [
    "res_fmt = '{:2d}'\n",
    "float_fmt = '{:20,.9f}'\n",
    "fmt = f'{res_fmt} {float_fmt} {float_fmt}'\n",
    "\n",
    "for res in range(16):\n",
    "    h = hexagon_area_avg(res)\n",
    "    p = pentagon_area_avg(res)\n",
    "\n",
    "    print(fmt.format(res, h, p))"
   ]
  },
  {
   "cell_type": "code",
   "execution_count": 3,
   "metadata": {},
   "outputs": [],
   "source": [
    "from tabulate import tabulate\n",
    "\n",
    "def fmt(x):\n",
    "    s = '{:20,.9f}'\n",
    "    return s.format(x)\n",
    "\n",
    "def foo():\n",
    "    for res in range(16):\n",
    "        h = hexagon_area_avg(res)\n",
    "        p = pentagon_area_avg(res)\n",
    "\n",
    "        yield res, fmt(h), fmt(p), p/h"
   ]
  },
  {
   "cell_type": "code",
   "execution_count": 4,
   "metadata": {},
   "outputs": [
    {
     "name": "stdout",
     "output_type": "stream",
     "text": [
      "|   Res |   Average <ins>Hexagon</ins><br>Area (km^2) |   Pentagon Area* (km^2) |    Ratio |\n",
      "|------:|--------------------------------------------:|------------------------:|---------:|\n",
      "|     0 |                         4,357,449.416078384 |     2,562,182.162955495 | 0.588    |\n",
      "|     1 |                           609,788.441794133 |       328,434.586246469 | 0.538604 |\n",
      "|     2 |                            86,801.780398997 |        44,930.898497879 | 0.517626 |\n",
      "|     3 |                            12,393.434655088 |         6,315.472267516 | 0.509582 |\n",
      "|     4 |                             1,770.347654491 |           896.582383141 | 0.506444 |\n",
      "|     5 |                               252.903858182 |           127.785583023 | 0.505273 |\n",
      "|     6 |                                36.129062164 |            18.238749548 | 0.504822 |\n",
      "|     7 |                                 5.161293360 |             2.604669397 | 0.504654 |\n",
      "|     8 |                                 0.737327598 |             0.372048038 | 0.50459  |\n",
      "|     9 |                                 0.105332513 |             0.053147195 | 0.504566 |\n",
      "|    10 |                                 0.015047502 |             0.007592318 | 0.504557 |\n",
      "|    11 |                                 0.002149643 |             0.001084609 | 0.504553 |\n",
      "|    12 |                                 0.000307092 |             0.000154944 | 0.504552 |\n",
      "|    13 |                                 0.000043870 |             0.000022135 | 0.504551 |\n",
      "|    14 |                                 0.000006267 |             0.000003162 | 0.504551 |\n",
      "|    15 |                                 0.000000895 |             0.000000452 | 0.504551 |\n",
      "\n",
      "*: Within a given resolution, all pentagons have the same area.\n"
     ]
    }
   ],
   "source": [
    "headers = [\n",
    "    'Res',\n",
    "    'Average <ins>Hexagon</ins><br>Area (km^2)',\n",
    "    'Pentagon Area* (km^2)',\n",
    "    'Ratio'\n",
    "]\n",
    "out = tabulate(foo(), headers=headers, tablefmt='pipe', stralign='right')\n",
    "\n",
    "print(out)\n",
    "print('\\n*: Within a given resolution, all pentagons have the same area.')"
   ]
  },
  {
   "cell_type": "code",
   "execution_count": null,
   "metadata": {},
   "outputs": [],
   "source": []
  }
 ],
 "metadata": {
  "kernelspec": {
   "display_name": "Python 3",
   "language": "python",
   "name": "python3"
  },
  "language_info": {
   "codemirror_mode": {
    "name": "ipython",
    "version": 3
   },
   "file_extension": ".py",
   "mimetype": "text/x-python",
   "name": "python",
   "nbconvert_exporter": "python",
   "pygments_lexer": "ipython3",
   "version": "3.7.3"
  }
 },
 "nbformat": 4,
 "nbformat_minor": 4
}
