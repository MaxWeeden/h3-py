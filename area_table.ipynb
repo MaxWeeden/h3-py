{
 "cells": [
  {
   "cell_type": "code",
   "execution_count": 1,
   "metadata": {},
   "outputs": [],
   "source": [
    "from h3._cy.unstable_area import cell_area\n",
    "import h3.api.basic_int as h3\n",
    "\n",
    "def num_hexagons(res):\n",
    "    return h3.num_hexagons(res) - 12\n",
    "\n",
    "def earth_area():\n",
    "    return sum(map(cell_area, h3.get_res0_indexes()))\n",
    "\n",
    "def pentagon_area_total(res):\n",
    "    return sum(map(cell_area, h3.get_pentagon_indexes(res)))\n",
    "\n",
    "def pentagon_area_avg(res):\n",
    "    return pentagon_area_total(res)/12\n",
    "\n",
    "def hexagon_area_avg(res):\n",
    "    A = earth_area() - pentagon_area_total(res)\n",
    "    \n",
    "    A = A/num_hexagons(res)\n",
    "    \n",
    "    return A\n",
    "\n",
    "def stats():\n",
    "    \"\"\"\n",
    "    For each resolution yield:\n",
    "    - resolution\n",
    "    - average *hex* area\n",
    "    - pentagon area\n",
    "    - ratio of pentagon/hex areas\n",
    "    \"\"\"\n",
    "    for res in range(16):\n",
    "        h = hexagon_area_avg(res)\n",
    "        p = pentagon_area_avg(res)\n",
    "\n",
    "        yield res, h, p, p/h"
   ]
  },
  {
   "cell_type": "code",
   "execution_count": 2,
   "metadata": {},
   "outputs": [
    {
     "name": "stdout",
     "output_type": "stream",
     "text": [
      " 0  4,357,449.416078384  2,562,182.162955495  0.588000\n",
      " 1    609,788.441794133    328,434.586246469  0.538604\n",
      " 2     86,801.780398997     44,930.898497879  0.517626\n",
      " 3     12,393.434655088      6,315.472267516  0.509582\n",
      " 4      1,770.347654491        896.582383141  0.506444\n",
      " 5        252.903858182        127.785583023  0.505273\n",
      " 6         36.129062164         18.238749548  0.504822\n",
      " 7          5.161293360          2.604669397  0.504654\n",
      " 8          0.737327598          0.372048038  0.504590\n",
      " 9          0.105332513          0.053147195  0.504566\n",
      "10          0.015047502          0.007592318  0.504557\n",
      "11          0.002149643          0.001084609  0.504553\n",
      "12          0.000307092          0.000154944  0.504552\n",
      "13          0.000043870          0.000022135  0.504551\n",
      "14          0.000006267          0.000003162  0.504551\n",
      "15          0.000000895          0.000000452  0.504551\n"
     ]
    }
   ],
   "source": [
    "res_fmt = '{:2d}'\n",
    "float_fmt = '{:20,.9f}'\n",
    "ratio_fmt = '{:.6f}'\n",
    "\n",
    "fmt = f'{res_fmt} {float_fmt} {float_fmt}  {ratio_fmt}'\n",
    "\n",
    "for res, h, p, ratio in stats():\n",
    "    print(fmt.format(res, h, p, ratio))"
   ]
  },
  {
   "cell_type": "code",
   "execution_count": 3,
   "metadata": {},
   "outputs": [
    {
     "data": {
      "text/plain": [
       "[(0, ' 4,357,449.416078384', ' 2,562,182.162955495', '0.588000'),\n",
       " (1, '   609,788.441794133', '   328,434.586246469', '0.538604'),\n",
       " (2, '    86,801.780398997', '    44,930.898497879', '0.517626'),\n",
       " (3, '    12,393.434655088', '     6,315.472267516', '0.509582'),\n",
       " (4, '     1,770.347654491', '       896.582383141', '0.506444'),\n",
       " (5, '       252.903858182', '       127.785583023', '0.505273'),\n",
       " (6, '        36.129062164', '        18.238749548', '0.504822'),\n",
       " (7, '         5.161293360', '         2.604669397', '0.504654'),\n",
       " (8, '         0.737327598', '         0.372048038', '0.504590'),\n",
       " (9, '         0.105332513', '         0.053147195', '0.504566'),\n",
       " (10, '         0.015047502', '         0.007592318', '0.504557'),\n",
       " (11, '         0.002149643', '         0.001084609', '0.504553'),\n",
       " (12, '         0.000307092', '         0.000154944', '0.504552'),\n",
       " (13, '         0.000043870', '         0.000022135', '0.504551'),\n",
       " (14, '         0.000006267', '         0.000003162', '0.504551'),\n",
       " (15, '         0.000000895', '         0.000000452', '0.504551')]"
      ]
     },
     "execution_count": 3,
     "metadata": {},
     "output_type": "execute_result"
    }
   ],
   "source": [
    "from tabulate import tabulate\n",
    "\n",
    "def fmt_float(x):\n",
    "    s = float_fmt\n",
    "    return s.format(x)\n",
    "\n",
    "def fmt_ratio(x):\n",
    "    s = ratio_fmt\n",
    "    return s.format(x)\n",
    "\n",
    "fmt_stats = [\n",
    "    (a, fmt_float(b), fmt_float(c), fmt_ratio(d))\n",
    "    for a,b,c,d in stats()\n",
    "]\n",
    "\n",
    "fmt_stats"
   ]
  },
  {
   "cell_type": "code",
   "execution_count": 4,
   "metadata": {},
   "outputs": [
    {
     "name": "stdout",
     "output_type": "stream",
     "text": [
      "|   Res |   Average <ins>Hexagon</ins><br>Area (km^2) |   Pentagon Area* (km^2) |    Ratio |\n",
      "|------:|--------------------------------------------:|------------------------:|---------:|\n",
      "|     0 |                         4,357,449.416078384 |     2,562,182.162955495 | 0.588000 |\n",
      "|     1 |                           609,788.441794133 |       328,434.586246469 | 0.538604 |\n",
      "|     2 |                            86,801.780398997 |        44,930.898497879 | 0.517626 |\n",
      "|     3 |                            12,393.434655088 |         6,315.472267516 | 0.509582 |\n",
      "|     4 |                             1,770.347654491 |           896.582383141 | 0.506444 |\n",
      "|     5 |                               252.903858182 |           127.785583023 | 0.505273 |\n",
      "|     6 |                                36.129062164 |            18.238749548 | 0.504822 |\n",
      "|     7 |                                 5.161293360 |             2.604669397 | 0.504654 |\n",
      "|     8 |                                 0.737327598 |             0.372048038 | 0.504590 |\n",
      "|     9 |                                 0.105332513 |             0.053147195 | 0.504566 |\n",
      "|    10 |                                 0.015047502 |             0.007592318 | 0.504557 |\n",
      "|    11 |                                 0.002149643 |             0.001084609 | 0.504553 |\n",
      "|    12 |                                 0.000307092 |             0.000154944 | 0.504552 |\n",
      "|    13 |                                 0.000043870 |             0.000022135 | 0.504551 |\n",
      "|    14 |                                 0.000006267 |             0.000003162 | 0.504551 |\n",
      "|    15 |                                 0.000000895 |             0.000000452 | 0.504551 |\n",
      "\n",
      "*: Within a given resolution, all pentagons have the same area.\n"
     ]
    }
   ],
   "source": [
    "headers = [\n",
    "    'Res',\n",
    "    'Average <ins>Hexagon</ins><br>Area (km^2)',\n",
    "    'Pentagon Area* (km^2)',\n",
    "    'Ratio'\n",
    "]\n",
    "out = tabulate(fmt_stats, headers=headers, tablefmt='pipe', stralign='right', disable_numparse=True)\n",
    "\n",
    "print(out)\n",
    "print('\\n*: Within a given resolution, all pentagons have the same area.')"
   ]
  },
  {
   "cell_type": "code",
   "execution_count": 11,
   "metadata": {},
   "outputs": [
    {
     "data": {
      "text/plain": [
       "6.3e-06"
      ]
     },
     "execution_count": 11,
     "metadata": {},
     "output_type": "execute_result"
    }
   ],
   "source": [
    "h3.hex_area(14)"
   ]
  },
  {
   "cell_type": "markdown",
   "metadata": {},
   "source": [
    "# compare to website numbers"
   ]
  },
  {
   "cell_type": "code",
   "execution_count": 20,
   "metadata": {},
   "outputs": [
    {
     "data": {
      "text/plain": [
       "[(0, ' 4,357,449.416078384', ' 4,250,546.848000000', '         1.025150309'),\n",
       " (1, '   609,788.441794133', '   607,220.978200000', '         1.004228220'),\n",
       " (2, '    86,801.780398997', '    86,745.854030000', '         1.000644715'),\n",
       " (3, '    12,393.434655088', '    12,392.264860000', '         1.000094397'),\n",
       " (4, '     1,770.347654491', '     1,770.323552000', '         1.000013615'),\n",
       " (5, '       252.903858182', '       252.903364500', '         1.000001952'),\n",
       " (6, '        36.129062164', '        36.129052100', '         1.000000279'),\n",
       " (7, '         5.161293360', '         5.161293200', '         1.000000031'),\n",
       " (8, '         0.737327598', '         0.737327600', '         0.999999997'),\n",
       " (9, '         0.105332513', '         0.105332500', '         1.000000127'),\n",
       " (10, '         0.015047502', '         0.015047500', '         1.000000127'),\n",
       " (11, '         0.002149643', '         0.002149600', '         1.000020064'),\n",
       " (12, '         0.000307092', '         0.000307100', '         0.999973545'),\n",
       " (13, '         0.000043870', '         0.000043900', '         0.999322732'),\n",
       " (14, '         0.000006267', '         0.000006300', '         0.994790656'),\n",
       " (15, '         0.000000895', '         0.000000900', '         0.994790656')]"
      ]
     },
     "execution_count": 20,
     "metadata": {},
     "output_type": "execute_result"
    }
   ],
   "source": [
    "def hex_stats():\n",
    "    \"\"\"\n",
    "    For each resolution yield:\n",
    "    - resolution\n",
    "    - new average *hex* area\n",
    "    - old average *hex* area\n",
    "    - ratio of new/old areas\n",
    "    \"\"\"\n",
    "    for res in range(16):\n",
    "        o = h3.hex_area(res)\n",
    "        n = hexagon_area_avg(res)\n",
    "\n",
    "        yield res, n, o, n/o\n",
    "        \n",
    "fmt_stats = [\n",
    "    (res, fmt_float(n), fmt_float(o), fmt_float(ratio))\n",
    "    for res, n,o, ratio in hex_stats()\n",
    "]\n",
    "fmt_stats"
   ]
  },
  {
   "cell_type": "code",
   "execution_count": 5,
   "metadata": {},
   "outputs": [],
   "source": [
    "# cut-paste from the H3 website:\n",
    "\n",
    "s = \"\"\"\n",
    "0\t4,250,546.8477000\t1,107.712591000\t122\n",
    "1\t607,220.9782429\t418.676005500\t842\n",
    "2\t86,745.8540347\t158.244655800\t5,882\n",
    "3\t12,392.2648621\t59.810857940\t41,162\n",
    "4\t1,770.3235517\t22.606379400\t288,122\n",
    "5\t252.9033645\t8.544408276\t2,016,842\n",
    "6\t36.1290521\t3.229482772\t14,117,882\n",
    "7\t5.1612932\t1.220629759\t98,825,162\n",
    "8\t0.7373276\t0.461354684\t691,776,122\n",
    "9\t0.1053325\t0.174375668\t4,842,432,842\n",
    "10\t0.0150475\t0.065907807\t33,897,029,882\n",
    "11\t0.0021496\t0.024910561\t237,279,209,162\n",
    "12\t0.0003071\t0.009415526\t1,660,954,464,122\n",
    "13\t0.0000439\t0.003559893\t11,626,681,248,842\n",
    "14\t0.0000063\t0.001348575\t81,386,768,741,882\n",
    "15\t0.0000009\t0.000509713\n",
    "\"\"\".strip()\n",
    "\n",
    "float_fmt_web = '{:18,.7f}'\n",
    "def fmt_float_web(x):\n",
    "    s = float_fmt_web\n",
    "    return s.format(x)\n",
    "\n",
    "og = (line.split()[1] for line in s.splitlines())\n",
    "og = (e.replace(',','') for e in og)\n",
    "og = map(float, og)\n",
    "og = map(fmt_float_web, og)\n",
    "\n",
    "og = list(og)"
   ]
  },
  {
   "cell_type": "code",
   "execution_count": 6,
   "metadata": {},
   "outputs": [],
   "source": [
    "new = list(map(fmt_float, (e[1] for e in stats())))\n",
    "res = list(range(16))\n",
    "\n",
    "both = [res, og, new]\n",
    "\n",
    "# # add descriptive row on the left:\n",
    "# both = list(zip(*both))\n",
    "# both = [('Res', '**Old**', '**New**')] + both\n",
    "# both = list(zip(*both))"
   ]
  },
  {
   "cell_type": "code",
   "execution_count": 7,
   "metadata": {},
   "outputs": [
    {
     "data": {
      "text/plain": [
       "[1.025150309409301,\n",
       " 1.0042282194509526,\n",
       " 1.0006447151269573,\n",
       " 1.0000943970291967,\n",
       " 1.0000136149072731,\n",
       " 1.000001952057858,\n",
       " 1.0000002785569897,\n",
       " 1.0000000309999828,\n",
       " 0.9999999972875016,\n",
       " 1.000000123418698,\n",
       " 1.000000132912444,\n",
       " 1.0000200037216227,\n",
       " 0.999973949853468,\n",
       " 0.9993166287015944,\n",
       " 0.9947619047619048,\n",
       " 0.9944444444444445]"
      ]
     },
     "execution_count": 7,
     "metadata": {},
     "output_type": "execute_result"
    }
   ],
   "source": [
    "ratio = ((o,n) for _, o,n in zip(*both))\n",
    "ratio = ((o.replace(',', ''), n.replace(',', '')) for o,n in ratio)\n",
    "ratio = (float(n)/float(o) for o,n in ratio)\n",
    "\n",
    "list(ratio)"
   ]
  },
  {
   "cell_type": "code",
   "execution_count": 8,
   "metadata": {},
   "outputs": [
    {
     "name": "stdout",
     "output_type": "stream",
     "text": [
      "# Hex Avg Area: Old vs. New\n",
      "\n",
      "| 0                   | 1                 | 2                | 3                | 4               | 5             | 6            | 7           | 8           | 9           | 10          | 11          | 12          | 13          | 14          | 15          |\n",
      "|:--------------------|:------------------|:-----------------|:-----------------|:----------------|:--------------|:-------------|:------------|:------------|:------------|:------------|:------------|:------------|:------------|:------------|:------------|\n",
      "| 4,250,546.8477000   | 607,220.9782429   | 86,745.8540347   | 12,392.2648621   | 1,770.3235517   | 252.9033645   | 36.1290521   | 5.1612932   | 0.7373276   | 0.1053325   | 0.0150475   | 0.0021496   | 0.0003071   | 0.0000439   | 0.0000063   | 0.0000009   |\n",
      "| 4,357,449.416078384 | 609,788.441794133 | 86,801.780398997 | 12,393.434655088 | 1,770.347654491 | 252.903858182 | 36.129062164 | 5.161293360 | 0.737327598 | 0.105332513 | 0.015047502 | 0.002149643 | 0.000307092 | 0.000043870 | 0.000006267 | 0.000000895 |\n"
     ]
    }
   ],
   "source": [
    "out = tabulate(both, tablefmt='pipe', headers='firstrow', disable_numparse=True)\n",
    "\n",
    "print('# Hex Avg Area: Old vs. New\\n')\n",
    "print(out)"
   ]
  },
  {
   "cell_type": "code",
   "execution_count": null,
   "metadata": {},
   "outputs": [],
   "source": []
  }
 ],
 "metadata": {
  "kernelspec": {
   "display_name": "Python 3",
   "language": "python",
   "name": "python3"
  },
  "language_info": {
   "codemirror_mode": {
    "name": "ipython",
    "version": 3
   },
   "file_extension": ".py",
   "mimetype": "text/x-python",
   "name": "python",
   "nbconvert_exporter": "python",
   "pygments_lexer": "ipython3",
   "version": "3.7.3"
  }
 },
 "nbformat": 4,
 "nbformat_minor": 4
}
