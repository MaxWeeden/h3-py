{
 "cells": [
  {
   "cell_type": "markdown",
   "metadata": {},
   "source": [
    "# todo\n",
    "\n",
    "- use geopandas to compute area: https://geopandas.org/data_structures.html\n",
    "- h3 into geopandas?"
   ]
  },
  {
   "cell_type": "code",
   "execution_count": 1,
   "metadata": {},
   "outputs": [],
   "source": [
    "from h3._cy.unstable_area import cell_area\n",
    "import h3.api.basic_int as h3\n",
    "\n",
    "import numpy as np"
   ]
  },
  {
   "cell_type": "code",
   "execution_count": 2,
   "metadata": {},
   "outputs": [],
   "source": [
    "def res_0_hexes():\n",
    "    cells = h3.get_res0_indexes()\n",
    "    hexes = {\n",
    "        h\n",
    "        for h in cells\n",
    "        if not h3.h3_is_pentagon(h)\n",
    "    }\n",
    "    return hexes\n",
    "\n",
    "\n",
    "def pentagon_area_avg(res):\n",
    "    return np.mean([cell_area(p) for p in h3.get_pentagon_indexes(res)])\n",
    "\n",
    "\n",
    "def hexagon_area_avg(res):\n",
    "    hexes = res_0_hexes()\n",
    "    hexes = h3.uncompact(hexes, res)\n",
    "\n",
    "    return np.mean([cell_area(h) for h in hexes])"
   ]
  },
  {
   "cell_type": "code",
   "execution_count": 3,
   "metadata": {},
   "outputs": [
    {
     "name": "stdout",
     "output_type": "stream",
     "text": [
      "pent_avg(0)/pent_avg(1): 7.801194728720636\n",
      "pent_avg(1)/pent_avg(2): 7.309771164758057\n",
      "pent_avg(2)/pent_avg(3): 7.1144162454781394\n",
      "pent_avg(3)/pent_avg(4): 7.043939727427411\n",
      "pent_avg(4)/pent_avg(5): 7.016303106582753\n",
      "pent_avg(5)/pent_avg(6): 7.0062688612258475\n",
      "pent_avg(6)/pent_avg(7): 7.002328037884673\n",
      "pent_avg(7)/pent_avg(8): 7.000895397448314\n",
      "pent_avg(8)/pent_avg(9): 7.000332537392249\n",
      "pent_avg(9)/pent_avg(10): 7.00012792974227\n",
      "pent_avg(10)/pent_avg(11): 7.000047484368409\n",
      "pent_avg(11)/pent_avg(12): 7.000018294654858\n",
      "pent_avg(12)/pent_avg(13): 7.000006754900207\n",
      "pent_avg(13)/pent_avg(14): 7.000002622034447\n",
      "pent_avg(14)/pent_avg(15): 7.00000089830143\n"
     ]
    }
   ],
   "source": [
    "for i in range(15):\n",
    "    r = pentagon_area_avg(i)/pentagon_area_avg(i+1)\n",
    "\n",
    "    print(f'pent_avg({i})/pent_avg({i+1}): {r}')"
   ]
  },
  {
   "cell_type": "code",
   "execution_count": 4,
   "metadata": {},
   "outputs": [
    {
     "name": "stdout",
     "output_type": "stream",
     "text": [
      "hex_avg(0)/hex_avg(1): 7.000819107475861\n",
      "hex_avg(1)/hex_avg(2): 7.000116602524983\n",
      "hex_avg(2)/hex_avg(3): 7.000016642889289\n",
      "hex_avg(3)/hex_avg(4): 7.000002377430186\n",
      "hex_avg(4)/hex_avg(5): 7.000000339629495\n",
      "CPU times: user 9.89 s, sys: 151 ms, total: 10 s\n",
      "Wall time: 9.99 s\n"
     ]
    }
   ],
   "source": [
    "%%time\n",
    "for i in range(5):\n",
    "    r = hexagon_area_avg(i)/hexagon_area_avg(i+1)\n",
    "\n",
    "    print(f'hex_avg({i})/hex_avg({i+1}): {r}')"
   ]
  },
  {
   "cell_type": "code",
   "execution_count": 5,
   "metadata": {},
   "outputs": [
    {
     "name": "stdout",
     "output_type": "stream",
     "text": [
      "hex_avg(0)/pent_avg(0): 1.7006790067775814\n",
      "hex_avg(1)/pent_avg(1): 1.8951108290673486\n",
      "hex_avg(2)/pent_avg(2): 1.9789422489534596\n",
      "hex_avg(3)/pent_avg(3): 2.0112836301781076\n",
      "hex_avg(4)/pent_avg(4): 2.0239079791480097\n",
      "hex_avg(5)/pent_avg(5): 2.028621593222011\n",
      "CPU times: user 8.54 s, sys: 89.1 ms, total: 8.63 s\n",
      "Wall time: 8.65 s\n"
     ]
    }
   ],
   "source": [
    "%%time\n",
    "for i in range(6):\n",
    "    r = hexagon_area_avg(i)/pentagon_area_avg(i)\n",
    "\n",
    "    print(f'hex_avg({i})/pent_avg({i}): {r}')"
   ]
  },
  {
   "cell_type": "code",
   "execution_count": 6,
   "metadata": {},
   "outputs": [],
   "source": [
    "def num_hexagons(res):\n",
    "    return 110*(7**res)\n",
    "\n",
    "def earth_area():\n",
    "    return sum(map(cell_area, h3.get_res0_indexes()))\n",
    "\n",
    "def pentagon_area_total(res):\n",
    "    return sum(map(cell_area, h3.get_pentagon_indexes(res)))\n",
    "\n",
    "def implied_hex_area_avg(res):\n",
    "    A = earth_area() - pentagon_area_total(res)\n",
    "    \n",
    "    A = A/num_hexagons(res)\n",
    "    \n",
    "    return A"
   ]
  },
  {
   "cell_type": "code",
   "execution_count": 7,
   "metadata": {},
   "outputs": [
    {
     "data": {
      "text/plain": [
       "0.9999999999999993"
      ]
     },
     "execution_count": 7,
     "metadata": {},
     "output_type": "execute_result"
    }
   ],
   "source": [
    "implied_hex_area_avg(0)/hexagon_area_avg(0)"
   ]
  },
  {
   "cell_type": "code",
   "execution_count": 8,
   "metadata": {},
   "outputs": [
    {
     "data": {
      "text/plain": [
       "1.0560465385758693"
      ]
     },
     "execution_count": 8,
     "metadata": {},
     "output_type": "execute_result"
    }
   ],
   "source": [
    "implied_hex_area_avg(1)/hexagon_area_avg(1)"
   ]
  },
  {
   "cell_type": "code",
   "execution_count": 9,
   "metadata": {},
   "outputs": [
    {
     "data": {
      "text/plain": [
       "1.0631627340014955"
      ]
     },
     "execution_count": 9,
     "metadata": {},
     "output_type": "execute_result"
    }
   ],
   "source": [
    "implied_hex_area_avg(2)/hexagon_area_avg(2)"
   ]
  },
  {
   "cell_type": "code",
   "execution_count": null,
   "metadata": {},
   "outputs": [],
   "source": []
  }
 ],
 "metadata": {
  "kernelspec": {
   "display_name": "Python 3",
   "language": "python",
   "name": "python3"
  },
  "language_info": {
   "codemirror_mode": {
    "name": "ipython",
    "version": 3
   },
   "file_extension": ".py",
   "mimetype": "text/x-python",
   "name": "python",
   "nbconvert_exporter": "python",
   "pygments_lexer": "ipython3",
   "version": "3.7.3"
  }
 },
 "nbformat": 4,
 "nbformat_minor": 4
}
